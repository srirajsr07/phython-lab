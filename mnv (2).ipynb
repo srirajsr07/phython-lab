{
 "cells": [
  {
   "cell_type": "markdown",
   "id": "cece9b5e",
   "metadata": {},
   "source": [
    "### Program 1"
   ]
  },
  {
   "cell_type": "code",
   "execution_count": 1,
   "id": "a06830eb",
   "metadata": {},
   "outputs": [
    {
     "name": "stdout",
     "output_type": "stream",
     "text": [
      "Enter marks for test1 : 55\n",
      "Enter marks for test2 : 55\n",
      "Enter marks for test3 : 23\n",
      "Average of best two test marks out of three test’s marks is 55.0\n"
     ]
    }
   ],
   "source": [
    "m1 = int(input(\"Enter marks for test1 : \"))\n",
    "m2 = int(input(\"Enter marks for test2 : \"))\n",
    "m3 = int(input(\"Enter marks for test3 : \"))\n",
    "if m1 <= m2 and m1 <= m3:\n",
    " avgMarks = (m2+m3)/2\n",
    "elif m2 <= m1 and m2 <= m3:\n",
    " avgMarks = (m1+m3)/2\n",
    "elif m3 <= m1 and m2 <= m2:\n",
    " avgMarks = (m1+m2)/2\n",
    "\n",
    "print(\"Average of best two test marks out of three test’s marks is\", avgMarks);"
   ]
  },
  {
   "cell_type": "markdown",
   "id": "cd93465c",
   "metadata": {},
   "source": [
    "### Program 1 B"
   ]
  },
  {
   "cell_type": "code",
   "execution_count": null,
   "id": "f9e6956c",
   "metadata": {},
   "outputs": [],
   "source": [
    "val = int(input(\"Enter a value : \"))\n",
    "str_val = str(val)\n",
    "if str_val == str_val[::-1]:\n",
    " print(\"Palindrome\")\n",
    "else:\n",
    " print(\"Not Palindrome\")\n",
    "\n",
    "for i in range(10):\n",
    " if str_val.count(str(i)) > 0:\n",
    " print(str(i),\"appears\", str_val.count(str(i)), \"times\");"
   ]
  },
  {
   "cell_type": "markdown",
   "id": "8ca2e4f7",
   "metadata": {},
   "source": [
    "### Program 2 A"
   ]
  },
  {
   "cell_type": "code",
   "execution_count": 3,
   "id": "02a64ebd",
   "metadata": {},
   "outputs": [
    {
     "name": "stdout",
     "output_type": "stream",
     "text": [
      "Enter a number : 5\n",
      "fn(5) = 3\n"
     ]
    }
   ],
   "source": [
    "def fn(n):\n",
    " if n == 1:\n",
    "     return 0\n",
    " elif n == 2:\n",
    "     return 1\n",
    " else:\n",
    "     return fn(n-1) + fn(n-2)\n",
    "\n",
    "num = int(input(\"Enter a number : \"))\n",
    "if num > 0:\n",
    " print(\"fn(\", num, \") = \",fn(num) , sep =\"\")\n",
    "else:\n",
    " print(\"Error in input\")"
   ]
  },
  {
   "cell_type": "markdown",
   "id": "182ac8c9",
   "metadata": {},
   "source": [
    "### Program 2 B"
   ]
  },
  {
   "cell_type": "code",
   "execution_count": null,
   "id": "836506e6",
   "metadata": {},
   "outputs": [],
   "source": [
    "for dig in rev:\n",
    "     dec += int(dig) * 2**i\n",
    "     i += 1\n",
    "\n",
    "     return dec\n",
    "def oct2Hex(val):\n",
    "     rev=val[::-1]\n",
    "     dec = 0\n",
    "     i = 0\n",
    " for dig in rev:\n",
    "     dec += int(dig) * 8**i\n",
    "     i += 1\n",
    "     list=[]\n",
    " while dec != 0:\n",
    "     list.append(dec%16)\n",
    "     dec = dec // 16\n",
    "     nl=[]\n",
    " for elem in list[::-1]:\n",
    "     if elem <= 9:\n",
    "     nl.append(str(elem))\n",
    " else:\n",
    "     nl.append(chr(ord('A') + (elem -10)))\n",
    "     hex = \"\".join(nl)\n",
    "\n",
    "     return hex\n",
    "num1 = input(\"Enter a binary number : \")\n",
    "print(bin2Dec(num1))\n",
    "num2 = input(\"Enter a octal number : \")\n",
    "print(oct2Hex(num2))"
   ]
  },
  {
   "cell_type": "markdown",
   "id": "447da877",
   "metadata": {},
   "source": [
    "### Program 3 A"
   ]
  },
  {
   "cell_type": "code",
   "execution_count": null,
   "id": "1e025c87",
   "metadata": {},
   "outputs": [],
   "source": [
    "sentence = input(\"Enter a sentence : \")\n",
    "wordList = sentence.split(\" \")\n",
    "print(\"This sentence has\", len(wordList), \"words\")\n",
    "digCnt = upCnt = loCnt = 0\n",
    "for ch in sentence:\n",
    " if '0' <= ch <= '9':\n",
    "     digCnt += 1\n",
    " elif 'A' <= ch <= 'Z':\n",
    "     upCnt += 1\n",
    " elif 'a' <= ch <= 'z':\n",
    "     loCnt += 1\n",
    "print(\"This sentence has\", digCnt, \"digits\", upCnt, \"upper case letters\", loCnt,\n",
    "\"lower case letters\")"
   ]
  },
  {
   "cell_type": "markdown",
   "id": "a838db7d",
   "metadata": {},
   "source": [
    "### Program 3 B"
   ]
  },
  {
   "cell_type": "code",
   "execution_count": null,
   "id": "59e904d3",
   "metadata": {},
   "outputs": [],
   "source": [
    "val = int(input(\"Enter a value : \"))\n",
    "str_val = str(val)\n",
    "if str_val == str_val[::-1]:\n",
    " print(\"Palindrome\")\n",
    "else:\n",
    " print(\"Not Palindrome\")\n",
    "\n",
    "for i in range(10):\n",
    " if str_val.count(str(i)) > 0:\n",
    " print(str(i),\"appears\", str_val.count(str(i)), \"times\");"
   ]
  }
 ],
 "metadata": {
  "kernelspec": {
   "display_name": "Python 3 (ipykernel)",
   "language": "python",
   "name": "python3"
  },
  "language_info": {
   "codemirror_mode": {
    "name": "ipython",
    "version": 3
   },
   "file_extension": ".py",
   "mimetype": "text/x-python",
   "name": "python",
   "nbconvert_exporter": "python",
   "pygments_lexer": "ipython3",
   "version": "3.10.9"
  }
 },
 "nbformat": 4,
 "nbformat_minor": 5
}
